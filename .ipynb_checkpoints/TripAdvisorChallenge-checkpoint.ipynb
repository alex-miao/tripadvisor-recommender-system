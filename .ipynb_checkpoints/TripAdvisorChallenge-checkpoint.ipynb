{
 "cells": [
  {
   "cell_type": "markdown",
   "metadata": {},
   "source": [
    "# TripAdvisor Data Challenge\n",
    "Prompt: https://drive.google.com/file/d/1jW9NvvpqDKOHrtv3PaKSQryMZekVGUny/view?usp=sharing\n",
    "\n",
    "\n",
    "Author: Jackson Barkstrom\n",
    "\n",
    "Team: Jackson Barkstrom, Rohan Dalvi, Alex Miao, Eric Liu\n",
    "\n",
    "Motivation: we're looking at user patterns to find out the answer to the question, \"What's the probability that a user viewed this hotel given that they viewed that hotel?\" Our final dataframe answers this question with a matrix displaying this probability (note: this matrix is not based on time, and we don't know what happened before and what happened after). "
   ]
  },
  {
   "cell_type": "code",
   "execution_count": 313,
   "metadata": {},
   "outputs": [],
   "source": [
    "import pandas as pd\n",
    "import numpy as np"
   ]
  },
  {
   "cell_type": "code",
   "execution_count": 314,
   "metadata": {},
   "outputs": [],
   "source": [
    "# exploratory data analysis was pretty much already done for us\n",
    "# see https://drive.google.com/open?id=15Mpsa6-dQ2K9sNtIenR8Gdq29DCYWk6r"
   ]
  },
  {
   "cell_type": "code",
   "execution_count": 423,
   "metadata": {},
   "outputs": [],
   "source": [
    "hotels = pd.read_csv(\"./hotel_data.csv\")\n",
    "activity = pd.read_csv(\"./activity_data.csv\")"
   ]
  },
  {
   "cell_type": "code",
   "execution_count": null,
   "metadata": {},
   "outputs": [],
   "source": [
    "# delete hotel values that are less common (we won't be recommending them)\n",
    "\n",
    "threshold = 2000\n",
    "value_counts = activity['hotel_id'].value_counts() # Specific column \n",
    "to_remove = value_counts[value_counts <= threshold].index\n",
    "\n",
    "activity_clean = activity['hotel_id'].replace(to_remove, np.nan).dropna()\n",
    "\n",
    "array = activity_clean['user_id'].unique()\n",
    "n = len(array);\n",
    "h = len(activity_clean['hotel_id'].unique())\n",
    "\n",
    "matrix = np.zeros((h,n)); \n",
    "df = pd.DataFrame(matrix, columns = array)\n",
    "\n",
    "df.index = activity_clean['hotel_id'].unique()\n",
    "\n",
    "# create matrix with people and what hotels they viewed\n",
    "\n",
    "for hotel_id in activity_clean['hotel_id'].unique():\n",
    "    data = activity_clean.loc[activity_clean['hotel_id'] == hotel_id]['user_id'].values\n",
    "    for i in range(len(data)):\n",
    "        df.loc[hotel_id, data[i]] = 1\n",
    "\n",
    "df = df.transpose()\n",
    "\n",
    "# export matrix with people as index and hotels they viewed as column\n",
    "\n",
    "df.to_pickle('./person_data.csv')\n",
    "\n",
    "# then tack on this dataframe to our original data\n",
    "\n",
    "result_by_person = pd.merge(activity, df, left_on = 'user_id', right_index = True, how = 'left')\n",
    "\n",
    "# then tack on this dataframe to our original data\n",
    "\n",
    "hotel_groupings = result_by_person.dropna().drop(['user_id', 'user_country', 'device', 'user_action'], axis=1)\n",
    "\n",
    "# then group by mean -- we can see what hotels people are likely to go to after viewing one hotel\n",
    "# obviously this will have a 1 in the column where we have the same hotel\n",
    "# data looks very good overall -- some very high correlations, I saw a couple .2's\n",
    "\n",
    "final_hotel_data = hotel_groupings.groupby(['hotel_id']).mean()\n",
    "\n",
    "final_hotel_data.to_pickle('./hotels.pkl')"
   ]
  }
 ],
 "metadata": {
  "kernelspec": {
   "display_name": "Python 3",
   "language": "python",
   "name": "python3"
  },
  "language_info": {
   "codemirror_mode": {
    "name": "ipython",
    "version": 3
   },
   "file_extension": ".py",
   "mimetype": "text/x-python",
   "name": "python",
   "nbconvert_exporter": "python",
   "pygments_lexer": "ipython3",
   "version": "3.7.1"
  }
 },
 "nbformat": 4,
 "nbformat_minor": 2
}
