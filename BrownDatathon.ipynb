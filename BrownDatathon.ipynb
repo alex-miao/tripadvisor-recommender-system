{
 "cells": [
  {
   "cell_type": "code",
   "execution_count": 24,
   "metadata": {},
   "outputs": [],
   "source": [
    "ids = {\"totalResults\":110,\"results\":[{\"gsid\":\"75154\"},{\"gsid\":\"193067\"},{\"gsid\":\"194688\"},{\"gsid\":\"902608\"},{\"gsid\":\"85627\"},{\"gsid\":\"13901\"},{\"gsid\":\"150407\"},{\"gsid\":\"161467\"},{\"gsid\":\"85072\"},{\"gsid\":\"82598\"},{\"gsid\":\"86372\"},{\"gsid\":\"11896\"},{\"gsid\":\"230958\"},{\"gsid\":\"177256\"},{\"gsid\":\"49154\"},{\"gsid\":\"76605\"},{\"gsid\":\"173578\"},{\"gsid\":\"85914\"},{\"gsid\":\"193324\"},{\"gsid\":\"75100\"},{\"gsid\":\"149756\"},{\"gsid\":\"213305\"},{\"gsid\":\"79758\"},{\"gsid\":\"69796\"},{\"gsid\":\"81116\"},{\"gsid\":\"202271\"},{\"gsid\":\"79145\"},{\"gsid\":\"84275\"},{\"gsid\":\"183269\"},{\"gsid\":\"76226\"},{\"gsid\":\"18163\"},{\"gsid\":\"80791\"},{\"gsid\":\"152963\"},{\"gsid\":\"197235\"},{\"gsid\":\"227284\"},{\"gsid\":\"222946\"},{\"gsid\":\"85631\"},{\"gsid\":\"25022\"},{\"gsid\":\"61621\"},{\"gsid\":\"59010\"},{\"gsid\":\"902704\"},{\"gsid\":\"216587\"},{\"gsid\":\"901237\"},{\"gsid\":\"80286\"},{\"gsid\":\"77659\"},{\"gsid\":\"15579\"},{\"gsid\":\"53613\"},{\"gsid\":\"16600\"},{\"gsid\":\"75573\"},{\"gsid\":\"216722\"},{\"gsid\":\"46578\"},{\"gsid\":\"75573\"},{\"gsid\":\"53065\"},{\"gsid\":\"84769\"},{\"gsid\":\"13936\"},{\"gsid\":\"46922\"},{\"gsid\":\"905632\"},{\"gsid\":\"13936\"},{\"gsid\":\"193155\"},{\"gsid\":\"91556\"},{\"gsid\":\"64064\"},{\"gsid\":\"79265\"},{\"gsid\":\"151048\"},{\"gsid\":\"176665\"},{\"gsid\":\"46886\"},{\"gsid\":\"183414\"},{\"gsid\":\"70500\"},{\"gsid\":\"16432\"},{\"gsid\":\"905632\"},{\"gsid\":\"173578\"},{\"gsid\":\"86196\"},{\"gsid\":\"11308\"},{\"gsid\":\"55976\"},{\"gsid\":\"188804\"},{\"gsid\":\"226278\"},{\"gsid\":\"26825\"},{\"gsid\":\"183269\"},{\"gsid\":\"172890\"},{\"gsid\":\"905288\"},{\"gsid\":\"29209\"},{\"gsid\":\"188329\"},{\"gsid\":\"10516\"},{\"gsid\":\"75607\"},{\"gsid\":\"18729\"},{\"gsid\":\"16678\"},{\"gsid\":\"44644\"},{\"gsid\":\"223416\"},{\"gsid\":\"82598\"},{\"gsid\":\"26403\"},{\"gsid\":\"91556\"},{\"gsid\":\"59248\"},{\"gsid\":\"78975\"},{\"gsid\":\"903917\"},{\"gsid\":\"78045\"},{\"gsid\":\"12490\"},{\"gsid\":\"40539\"},{\"gsid\":\"148401\"},{\"gsid\":\"17750\"},{\"gsid\":\"198025\"},{\"gsid\":\"10696\"},{\"gsid\":\"22293\"},{\"gsid\":\"66384\"},{\"gsid\":\"85517\"},{\"gsid\":\"217708\"},{\"gsid\":\"79145\"},{\"gsid\":\"85631\"},{\"gsid\":\"86356\"},{\"gsid\":\"905255\"},{\"gsid\":\"14593\"},{\"gsid\":\"85072\"}]}\n"
   ]
  },
  {
   "cell_type": "code",
   "execution_count": 25,
   "metadata": {},
   "outputs": [],
   "source": [
    "gsids = []\n",
    "for a in ids['results'][:]:\n",
    "    gsids.append(a['gsid'])"
   ]
  },
  {
   "cell_type": "code",
   "execution_count": 29,
   "metadata": {},
   "outputs": [],
   "source": [
    "from pandas.io.json import json_normalize\n",
    "import requests\n",
    "import json\n",
    "import pandas as pd\n",
    "import numpy as np\n",
    "\n",
    "auth_data = {\n",
    "    \"grant_type\"    : \"client_credentials\",\n",
    "    \"client_id\"     : \"6e61ff1eaca34a53b0b073335bc5cc33\",\n",
    "    \"client_secret\" : \"5eb073720ad5b854fd5d6bd880cb24ff63e6decf9885adb8ca57b39108af2d6c\",\n",
    "    \"scope\"         : \"read_product_data\"\n",
    "}\n",
    "\n",
    "# create session instance\n",
    "session = requests.Session()\n",
    "\n",
    "auth_request = session.post(\"https://idfs.gs.com/as/token.oauth2\", data = auth_data)\n",
    "access_token_dict = json.loads(auth_request.text)\n",
    "access_token = access_token_dict[\"access_token\"]\n",
    "\n",
    "# update session headers with access token\n",
    "session.headers.update({\"Authorization\":\"Bearer \"+ access_token})\n",
    "\n",
    "request_url = \"https://api.marquee.gs.com/v1/data/USCANFPP_MINI/query\"\n",
    "\n",
    "request_query = {\n",
    "                    \"where\": {\n",
    "                        \"gsid\": gsids\n",
    "                    },\n",
    "                    \"startDate\": \"2017-01-15\",\n",
    "                    \"endDate\":\"2018-01-15\"\n",
    "               }\n",
    "\n",
    "request = session.post(url=request_url, json=request_query)\n",
    "results = json.loads(request.text)"
   ]
  },
  {
   "cell_type": "code",
   "execution_count": 39,
   "metadata": {},
   "outputs": [],
   "source": [
    "df = pd.DataFrame.from_dict(json_normalize(results['data'][:]),orient='columns')"
   ]
  },
  {
   "cell_type": "code",
   "execution_count": 40,
   "metadata": {},
   "outputs": [],
   "source": [
    "df.to_csv(r'raw_data.csv')"
   ]
  },
  {
   "cell_type": "code",
   "execution_count": null,
   "metadata": {},
   "outputs": [],
   "source": []
  }
 ],
 "metadata": {
  "kernelspec": {
   "display_name": "Python 3",
   "language": "python",
   "name": "python3"
  },
  "language_info": {
   "codemirror_mode": {
    "name": "ipython",
    "version": 3
   },
   "file_extension": ".py",
   "mimetype": "text/x-python",
   "name": "python",
   "nbconvert_exporter": "python",
   "pygments_lexer": "ipython3",
   "version": "3.7.1"
  }
 },
 "nbformat": 4,
 "nbformat_minor": 2
}
