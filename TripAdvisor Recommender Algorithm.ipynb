{
 "cells": [
  {
   "cell_type": "markdown",
   "metadata": {},
   "source": [
    "## Clean Hotel Data"
   ]
  },
  {
   "cell_type": "code",
   "execution_count": 67,
   "metadata": {},
   "outputs": [],
   "source": [
    "import pandas as pd\n",
    "from scipy import stats\n",
    "from sklearn.cluster import KMeans\n",
    "from sklearn import preprocessing\n",
    "from sklearn.manifold import TSNE\n",
    "import matplotlib.pyplot as plt\n",
    "import seaborn as sns\n",
    "import numpy as np\n",
    "import pylab as pl\n",
    "\n",
    "#Import data\n",
    "hotels = pd.read_csv('hotel_data.csv')\n",
    "activity = pd.read_csv('activity_data.csv')\n",
    "\n",
    "#Clean data to get rid of NaN and categorical variables through ones hot encoding\n",
    "#df.loc[df['city_name'] == 'Brookyln']\n",
    "df = hotels.loc[hotels['city_name'] == 'Brooklyn']\n",
    "df = pd.get_dummies(data=hotels, columns=['hotel_type','parent_brand_name'])\n",
    "df.dropna(inplace = True)\n",
    "df.drop(['hotel_id','hotel_name','brand_name','city_name'],axis = 1,inplace = True)\n",
    "\n",
    "#Scale values from 0 to 1\n",
    "x = df.values\n",
    "min_max_scaler = preprocessing.MinMaxScaler()\n",
    "x_scaled = min_max_scaler.fit_transform(x)\n",
    "df = pd.DataFrame(x_scaled)"
   ]
  },
  {
   "cell_type": "markdown",
   "metadata": {},
   "source": [
    "## Create Primary Clustering"
   ]
  },
  {
   "cell_type": "code",
   "execution_count": 68,
   "metadata": {
    "scrolled": true
   },
   "outputs": [
    {
     "data": {
      "image/png": "[encoded data removed]",
      "text/plain": [
       "<Figure size 432x288 with 1 Axes>"
      ]
     },
     "metadata": {
      "needs_background": "light"
     },
     "output_type": "display_data"
    },
    {
     "name": "stdout",
     "output_type": "stream",
     "text": [
      "[t-SNE] Computing 121 nearest neighbors...\n",
      "[t-SNE] Indexed 402 samples in 0.001s...\n",
      "[t-SNE] Computed neighbors for 402 samples in 0.014s...\n",
      "[t-SNE] Computed conditional probabilities for sample 402 / 402\n",
      "[t-SNE] Mean sigma: 0.287255\n",
      "[t-SNE] KL divergence after 250 iterations with early exaggeration: 53.266392\n",
      "[t-SNE] KL divergence after 1000 iterations: 0.140290\n"
     ]
    },
    {
     "data": {
      "image/png": "[encoded data removed]",
      "text/plain": [
       "<Figure size 432x288 with 1 Axes>"
      ]
     },
     "metadata": {
      "needs_background": "light"
     },
     "output_type": "display_data"
    }
   ],
   "source": [
    "#Cluster the data\n",
    "clmns = list(df)\n",
    "Nc = range(1, 27)\n",
    "kmeans = [KMeans(n_clusters=i, random_state=0, max_iter = 1000) for i in Nc]\n",
    "score = [kmeans[i].fit(df).score(df) for i in range(len(kmeans))]\n",
    "\n",
    "#Plot Elbow Curve\n",
    "pl.plot(Nc,score)\n",
    "pl.xlabel('Number of Clusters')\n",
    "pl.ylabel('Score')\n",
    "pl.title('Elbow Curve')\n",
    "pl.show()\n",
    "\n",
    "#Run KMeans\n",
    "clmns = list(df)\n",
    "kmeans = KMeans(n_clusters = 8, random_state = 2)\n",
    "kmeans.fit(df)\n",
    "labels = kmeans.labels_\n",
    "\n",
    "#Find centers\n",
    "centers = np.array(kmeans.cluster_centers_)\n",
    "\n",
    "#Glue back to original data\n",
    "df['clusters'] = labels\n",
    "\n",
    "#Add the column into our list\n",
    "clmns.extend(['clusters'])\n",
    "\n",
    "#Lets analyze the clusters\n",
    "df.groupby(['clusters']).mean()\n",
    "\n",
    "#run the clusters on a T sne \n",
    "tsne = TSNE(n_components = 2, verbose = 1 , perplexity = 40, n_iter=1000)\n",
    "output = tsne.fit_transform(df.loc[:])\n",
    "\n",
    "#visualize clusters\n",
    "list1 = [i[0] for i in output]\n",
    "list2 = [i[1] for i in output]\n",
    "plt.scatter(list1,list2, c = labels)\n",
    "\n",
    "#export clusters\n",
    "pd.DataFrame(centers).to_csv(r'centers.csv')"
   ]
  },
  {
   "cell_type": "markdown",
   "metadata": {},
   "source": [
    "## Calculate 'Hotel-Cross Over'"
   ]
  },
  {
   "cell_type": "code",
   "execution_count": 66,
   "metadata": {},
   "outputs": [
    {
     "ename": "IndexError",
     "evalue": "user_id",
     "output_type": "error",
     "traceback": [
      "\u001b[0;31m---------------------------------------------------------------------------\u001b[0m",
      "\u001b[0;31mTypeError\u001b[0m                                 Traceback (most recent call last)",
      "\u001b[0;32m/anaconda3/lib/python3.7/site-packages/pandas/core/indexes/base.py\u001b[0m in \u001b[0;36mget_value\u001b[0;34m(self, series, key)\u001b[0m\n\u001b[1;32m   3117\u001b[0m             return self._engine.get_value(s, k,\n\u001b[0;32m-> 3118\u001b[0;31m                                           tz=getattr(series.dtype, 'tz', None))\n\u001b[0m\u001b[1;32m   3119\u001b[0m         \u001b[0;32mexcept\u001b[0m \u001b[0mKeyError\u001b[0m \u001b[0;32mas\u001b[0m \u001b[0me1\u001b[0m\u001b[0;34m:\u001b[0m\u001b[0;34m\u001b[0m\u001b[0;34m\u001b[0m\u001b[0m\n",
      "\u001b[0;32mpandas/_libs/index.pyx\u001b[0m in \u001b[0;36mpandas._libs.index.IndexEngine.get_value\u001b[0;34m()\u001b[0m\n",
      "\u001b[0;32mpandas/_libs/index.pyx\u001b[0m in \u001b[0;36mpandas._libs.index.IndexEngine.get_value\u001b[0;34m()\u001b[0m\n",
      "\u001b[0;32mpandas/_libs/index.pyx\u001b[0m in \u001b[0;36mpandas._libs.index.IndexEngine.get_loc\u001b[0;34m()\u001b[0m\n",
      "\u001b[0;32mpandas/_libs/index.pyx\u001b[0m in \u001b[0;36mpandas._libs.index._bin_search\u001b[0;34m()\u001b[0m\n",
      "\u001b[0;31mTypeError\u001b[0m: '<' not supported between instances of 'numpy.ndarray' and 'str'",
      "\nDuring handling of the above exception, another exception occurred:\n",
      "\u001b[0;31mIndexError\u001b[0m                                Traceback (most recent call last)",
      "\u001b[0;32m<ipython-input-66-5c494e4a6d31>\u001b[0m in \u001b[0;36m<module>\u001b[0;34m\u001b[0m\n\u001b[1;32m      6\u001b[0m \u001b[0mactivity_clean\u001b[0m \u001b[0;34m=\u001b[0m \u001b[0mactivity\u001b[0m\u001b[0;34m[\u001b[0m\u001b[0;34m'hotel_id'\u001b[0m\u001b[0;34m]\u001b[0m\u001b[0;34m.\u001b[0m\u001b[0mreplace\u001b[0m\u001b[0;34m(\u001b[0m\u001b[0mto_remove\u001b[0m\u001b[0;34m,\u001b[0m \u001b[0mnp\u001b[0m\u001b[0;34m.\u001b[0m\u001b[0mnan\u001b[0m\u001b[0;34m)\u001b[0m\u001b[0;34m.\u001b[0m\u001b[0mdropna\u001b[0m\u001b[0;34m(\u001b[0m\u001b[0;34m)\u001b[0m\u001b[0;34m\u001b[0m\u001b[0;34m\u001b[0m\u001b[0m\n\u001b[1;32m      7\u001b[0m \u001b[0;34m\u001b[0m\u001b[0m\n\u001b[0;32m----> 8\u001b[0;31m \u001b[0marray\u001b[0m \u001b[0;34m=\u001b[0m \u001b[0mactivity_clean\u001b[0m\u001b[0;34m[\u001b[0m\u001b[0;34m'user_id'\u001b[0m\u001b[0;34m]\u001b[0m\u001b[0;34m.\u001b[0m\u001b[0munique\u001b[0m\u001b[0;34m(\u001b[0m\u001b[0;34m)\u001b[0m\u001b[0;34m\u001b[0m\u001b[0;34m\u001b[0m\u001b[0m\n\u001b[0m\u001b[1;32m      9\u001b[0m \u001b[0mn\u001b[0m \u001b[0;34m=\u001b[0m \u001b[0mlen\u001b[0m\u001b[0;34m(\u001b[0m\u001b[0marray\u001b[0m\u001b[0;34m)\u001b[0m\u001b[0;34m;\u001b[0m\u001b[0;34m\u001b[0m\u001b[0;34m\u001b[0m\u001b[0m\n\u001b[1;32m     10\u001b[0m \u001b[0mh\u001b[0m \u001b[0;34m=\u001b[0m \u001b[0mlen\u001b[0m\u001b[0;34m(\u001b[0m\u001b[0mactivity_clean\u001b[0m\u001b[0;34m[\u001b[0m\u001b[0;34m'hotel_id'\u001b[0m\u001b[0;34m]\u001b[0m\u001b[0;34m.\u001b[0m\u001b[0munique\u001b[0m\u001b[0;34m(\u001b[0m\u001b[0;34m)\u001b[0m\u001b[0;34m)\u001b[0m\u001b[0;34m\u001b[0m\u001b[0;34m\u001b[0m\u001b[0m\n",
      "\u001b[0;32m/anaconda3/lib/python3.7/site-packages/pandas/core/series.py\u001b[0m in \u001b[0;36m__getitem__\u001b[0;34m(self, key)\u001b[0m\n\u001b[1;32m    765\u001b[0m         \u001b[0mkey\u001b[0m \u001b[0;34m=\u001b[0m \u001b[0mcom\u001b[0m\u001b[0;34m.\u001b[0m\u001b[0m_apply_if_callable\u001b[0m\u001b[0;34m(\u001b[0m\u001b[0mkey\u001b[0m\u001b[0;34m,\u001b[0m \u001b[0mself\u001b[0m\u001b[0;34m)\u001b[0m\u001b[0;34m\u001b[0m\u001b[0;34m\u001b[0m\u001b[0m\n\u001b[1;32m    766\u001b[0m         \u001b[0;32mtry\u001b[0m\u001b[0;34m:\u001b[0m\u001b[0;34m\u001b[0m\u001b[0;34m\u001b[0m\u001b[0m\n\u001b[0;32m--> 767\u001b[0;31m             \u001b[0mresult\u001b[0m \u001b[0;34m=\u001b[0m \u001b[0mself\u001b[0m\u001b[0;34m.\u001b[0m\u001b[0mindex\u001b[0m\u001b[0;34m.\u001b[0m\u001b[0mget_value\u001b[0m\u001b[0;34m(\u001b[0m\u001b[0mself\u001b[0m\u001b[0;34m,\u001b[0m \u001b[0mkey\u001b[0m\u001b[0;34m)\u001b[0m\u001b[0;34m\u001b[0m\u001b[0;34m\u001b[0m\u001b[0m\n\u001b[0m\u001b[1;32m    768\u001b[0m \u001b[0;34m\u001b[0m\u001b[0m\n\u001b[1;32m    769\u001b[0m             \u001b[0;32mif\u001b[0m \u001b[0;32mnot\u001b[0m \u001b[0mis_scalar\u001b[0m\u001b[0;34m(\u001b[0m\u001b[0mresult\u001b[0m\u001b[0;34m)\u001b[0m\u001b[0;34m:\u001b[0m\u001b[0;34m\u001b[0m\u001b[0;34m\u001b[0m\u001b[0m\n",
      "\u001b[0;32m/anaconda3/lib/python3.7/site-packages/pandas/core/indexes/base.py\u001b[0m in \u001b[0;36mget_value\u001b[0;34m(self, series, key)\u001b[0m\n\u001b[1;32m   3136\u001b[0m             \u001b[0;31m# python 3\u001b[0m\u001b[0;34m\u001b[0m\u001b[0;34m\u001b[0m\u001b[0;34m\u001b[0m\u001b[0m\n\u001b[1;32m   3137\u001b[0m             \u001b[0;32mif\u001b[0m \u001b[0mis_scalar\u001b[0m\u001b[0;34m(\u001b[0m\u001b[0mkey\u001b[0m\u001b[0;34m)\u001b[0m\u001b[0;34m:\u001b[0m  \u001b[0;31m# pragma: no cover\u001b[0m\u001b[0;34m\u001b[0m\u001b[0;34m\u001b[0m\u001b[0m\n\u001b[0;32m-> 3138\u001b[0;31m                 \u001b[0;32mraise\u001b[0m \u001b[0mIndexError\u001b[0m\u001b[0;34m(\u001b[0m\u001b[0mkey\u001b[0m\u001b[0;34m)\u001b[0m\u001b[0;34m\u001b[0m\u001b[0;34m\u001b[0m\u001b[0m\n\u001b[0m\u001b[1;32m   3139\u001b[0m             \u001b[0;32mraise\u001b[0m \u001b[0mInvalidIndexError\u001b[0m\u001b[0;34m(\u001b[0m\u001b[0mkey\u001b[0m\u001b[0;34m)\u001b[0m\u001b[0;34m\u001b[0m\u001b[0;34m\u001b[0m\u001b[0m\n\u001b[1;32m   3140\u001b[0m \u001b[0;34m\u001b[0m\u001b[0m\n",
      "\u001b[0;31mIndexError\u001b[0m: user_id"
     ]
    }
   ],
   "source": [
    "# delete hotel values that are less common (we won't be recommending them)\n",
    "threshold = 2000\n",
    "value_counts = activity['hotel_id'].value_counts() # Specific column \n",
    "to_remove = value_counts[value_counts <= threshold].index\n",
    "\n",
    "activity_clean = activity['hotel_id'].replace(to_remove, np.nan).dropna()\n",
    "\n",
    "array = activity_clean['user_id'].unique()\n",
    "n = len(array);\n",
    "h = len(activity_clean['hotel_id'].unique())\n",
    "\n",
    "matrix = np.zeros((h,n)); \n",
    "df = pd.DataFrame(matrix, columns = array)\n",
    "\n",
    "df.index = activity_clean['hotel_id'].unique()\n",
    "\n",
    "# create matrix with people and what hotels they viewed\n",
    "\n",
    "for hotel_id in activity_clean['hotel_id'].unique():\n",
    "    data = activity_clean.loc[activity_clean['hotel_id'] == hotel_id]['user_id'].values\n",
    "    for i in range(len(data)):\n",
    "        df.loc[hotel_id, data[i]] = 1\n",
    "\n",
    "df = df.transpose()\n",
    "\n",
    "# export matrix with people as index and hotels they viewed as column\n",
    "\n",
    "df.to_pickle('./person_data.csv')\n",
    "\n",
    "# then tack on this dataframe to our original data\n",
    "\n",
    "result_by_person = pd.merge(activity, df, left_on = 'user_id', right_index = True, how = 'left')\n",
    "\n",
    "# then tack on this dataframe to our original data\n",
    "\n",
    "hotel_groupings = result_by_person.dropna().drop(['user_id', 'user_country', 'device', 'user_action'], axis=1)\n",
    "\n",
    "# then group by mean -- we can see what hotels people are likely to go to after viewing one hotel\n",
    "# obviously this will have a 1 in the column where we have the same hotel\n",
    "# data looks very good overall -- some very high correlations, I saw a couple .2's\n",
    "\n",
    "final_hotel_data = hotel_groupings.groupby(['hotel_id']).mean()\n",
    "\n",
    "final_hotel_data.to_pickle('./hotels.pkl')"
   ]
  },
  {
   "cell_type": "markdown",
   "metadata": {},
   "source": [
    "## Final Clustering using 'Hotel Cross-Over'"
   ]
  },
  {
   "cell_type": "code",
   "execution_count": 71,
   "metadata": {},
   "outputs": [
    {
     "data": {
      "image/png": "[encoded data removed]",
      "text/plain": [
       "<Figure size 432x288 with 1 Axes>"
      ]
     },
     "metadata": {
      "needs_background": "light"
     },
     "output_type": "display_data"
    },
    {
     "name": "stdout",
     "output_type": "stream",
     "text": [
      "[t-SNE] Computing 121 nearest neighbors...\n",
      "[t-SNE] Indexed 240 samples in 0.000s...\n",
      "[t-SNE] Computed neighbors for 240 samples in 0.003s...\n",
      "[t-SNE] Computed conditional probabilities for sample 240 / 240\n",
      "[t-SNE] Mean sigma: 0.315365\n",
      "[t-SNE] KL divergence after 250 iterations with early exaggeration: 60.815807\n",
      "[t-SNE] KL divergence after 1000 iterations: 0.293307\n"
     ]
    },
    {
     "data": {
      "text/plain": [
       "<matplotlib.collections.PathCollection at 0x1a1ed6c860>"
      ]
     },
     "execution_count": 71,
     "metadata": {},
     "output_type": "execute_result"
    },
    {
     "data": {
      "image/png": "[encoded data removed]",
      "text/plain": [
       "<Figure size 432x288 with 1 Axes>"
      ]
     },
     "metadata": {
      "needs_background": "light"
     },
     "output_type": "display_data"
    }
   ],
   "source": [
    "df = pd.read_csv('hotel_comparison_data.csv')\n",
    "df.drop(['hotel_id'],axis = 1, inplace = True)\n",
    "\n",
    "#Cluster the data\n",
    "clmns = list(df)\n",
    "Nc = range(1, 60)\n",
    "kmeans = [KMeans(n_clusters=i, random_state=0, max_iter = 1000) for i in Nc]\n",
    "score = [kmeans[i].fit(df).score(df) for i in range(len(kmeans))]\n",
    "\n",
    "#Plot Elbow Curve\n",
    "pl.plot(Nc,score)\n",
    "pl.xlabel('Number of Clusters')\n",
    "pl.ylabel('Score')\n",
    "pl.title('Elbow Curve')\n",
    "pl.show()\n",
    "\n",
    "#Run KMeans\n",
    "clmns = list(df)\n",
    "kmeans = KMeans(n_clusters = 5, random_state = 2)\n",
    "kmeans.fit(df)\n",
    "labels = kmeans.labels_\n",
    "\n",
    "#Find centers\n",
    "centers = np.array(kmeans.cluster_centers_)\n",
    "\n",
    "#Glue back to original data\n",
    "df['clusters'] = labels\n",
    "\n",
    "#Add the column into our list\n",
    "clmns.extend(['clusters'])\n",
    "\n",
    "#Lets analyze the clusters\n",
    "df.groupby(['clusters']).mean()\n",
    "\n",
    "#run the clusters on a T sne \n",
    "tsne = TSNE(n_components = 2, verbose = 1 , perplexity = 40, n_iter=1000)\n",
    "output = tsne.fit_transform(df.loc[:])\n",
    "\n",
    "#visualize clusters\n",
    "list1 = [i[0] for i in output]\n",
    "list2 = [i[1] for i in output]\n",
    "plt.scatter(list1,list2, c = labels)"
   ]
  },
  {
   "cell_type": "markdown",
   "metadata": {},
   "source": [
    "## Create 'Top 5' Recommender System"
   ]
  },
  {
   "cell_type": "code",
   "execution_count": null,
   "metadata": {},
   "outputs": [],
   "source": [
    "import pandas as pd\n",
    "from scipy.spatial import distance\n",
    "df = pd.read_pickle('hotels.pkl')\n",
    "\n",
    "array = df.values.tolist()\n",
    "\n",
    "distanceslist = []\n",
    "rowlist = []\n",
    "for v1 in array:\n",
    "    for v2 in array:\n",
    "        rowlist.append(distance.cityblock(v1, v2))   \n",
    "    distanceslist.append(rowlist)\n",
    "    rowlist = []\n",
    "\n",
    "\n",
    "suggestlist = []\n",
    "suggestlistrow = []\n",
    "i = 0\n",
    "while i < len(distanceslist):\n",
    "    minIndex = distanceslist[i].index(min(distanceslist[i]))\n",
    "    suggestlistrow.append(minIndex)\n",
    "    distanceslist[i][minIndex] = 99\n",
    "    minIndex = distanceslist[i].index(min(distanceslist[i]))\n",
    "    suggestlistrow.append(minIndex)\n",
    "    distanceslist[i][minIndex] = 99\n",
    "    minIndex = distanceslist[i].index(min(distanceslist[i]))\n",
    "    suggestlistrow.append(minIndex)\n",
    "    distanceslist[i][minIndex] = 99\n",
    "    minIndex = distanceslist[i].index(min(distanceslist[i]))\n",
    "    suggestlistrow.append(minIndex)\n",
    "    distanceslist[i][minIndex] = 99\n",
    "    minIndex = distanceslist[i].index(min(distanceslist[i]))\n",
    "    suggestlistrow.append(minIndex)\n",
    "    distanceslist[i][minIndex] = 99\n",
    "    minIndex = distanceslist[i].index(min(distanceslist[i]))\n",
    "    suggestlistrow.append(minIndex)\n",
    "    suggestlistrow.append(minIndex)\n",
    "    suggestlist.append(suggestlistrow)\n",
    "    suggestlistrow = []\n",
    "    i = i + 1\n",
    "\n",
    "import numpy as np\n",
    "np.savetxt(\"final_results.csv\", suggestlist, delimiter=\",\", fmt='%s')"
   ]
  }
 ],
 "metadata": {
  "kernelspec": {
   "display_name": "Python 3",
   "language": "python",
   "name": "python3"
  },
  "language_info": {
   "codemirror_mode": {
    "name": "ipython",
    "version": 3
   },
   "file_extension": ".py",
   "mimetype": "text/x-python",
   "name": "python",
   "nbconvert_exporter": "python",
   "pygments_lexer": "ipython3",
   "version": "3.7.1"
  }
 },
 "nbformat": 4,
 "nbformat_minor": 2
}
